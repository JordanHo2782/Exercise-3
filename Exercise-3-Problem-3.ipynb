{
 "cells": [
  {
   "cell_type": "markdown",
   "metadata": {
    "deletable": false,
    "editable": false
   },
   "source": [
    "## Problem 3: How many people live near shopping centers? (8 points)\n",
    "\n",
    "In the last step of this analysis, use a *spatial join* to relate data from a population grid data set to the buffer layer created in *problem 2* to find out how many people live in all population grid cells that are **within** 1.5 km distance from each shopping centre. \n",
    "\n",
    "Use the same population grid data set as during [lesson 3](https://autogis-site.readthedocs.io/en/latest/lessons/lesson-3/spatial-join.html) (load it directly from WFS, don’t forget to assign a CRS).\n",
    "\n",
    "\n",
    "*Feel free to divide your solution into more codeblocks than prepared! Remember to add comments to your code :)*"
   ]
  },
  {
   "cell_type": "markdown",
   "metadata": {
    "deletable": false,
    "editable": false
   },
   "source": [
    "### a) Load the population grid data set and the buffer geometries\n",
    "\n",
    "Use the same population grid data set as during [lesson 3](https://autogis-site.readthedocs.io/en/latest/lessons/lesson-3/spatial-join.html) (load it directly from WFS, don’t forget to assign a CRS). Load the data into a `GeoDataFrame` called `population_grid`.\n",
    "\n",
    "(optional) If you want, discard unneeded columns and translate the remaining column names from Finnish to English."
   ]
  },
  {
   "cell_type": "code",
   "execution_count": 1,
   "metadata": {},
   "outputs": [],
   "source": [
    "# ADD YOUR OWN CODE HERE\n",
    "import pathlib \n",
    "NOTEBOOK_PATH = pathlib.Path().resolve()\n",
    "DATA_DIRECTORY = NOTEBOOK_PATH / \"data\""
   ]
  },
  {
   "cell_type": "code",
   "execution_count": 17,
   "metadata": {},
   "outputs": [],
   "source": [
    "import geopandas as gpd\n",
    "population_grid = gpd.read_file(\n",
    "    (\n",
    "        \"https://kartta.hsy.fi/geoserver/wfs\"\n",
    "        \"?service=wfs\"\n",
    "        \"&version=2.0.0\"\n",
    "        \"&request=GetFeature\"\n",
    "        \"&typeName=asuminen_ja_maankaytto:Vaestotietoruudukko_2020\"\n",
    "        \"&srsName=EPSG:3879\"\n",
    "    ),\n",
    ")\n",
    "population_grid.crs = crs=\"EPSG:3879\""
   ]
  },
  {
   "cell_type": "code",
   "execution_count": 19,
   "metadata": {},
   "outputs": [
    {
     "data": {
      "text/html": [
       "<div>\n",
       "<style scoped>\n",
       "    .dataframe tbody tr th:only-of-type {\n",
       "        vertical-align: middle;\n",
       "    }\n",
       "\n",
       "    .dataframe tbody tr th {\n",
       "        vertical-align: top;\n",
       "    }\n",
       "\n",
       "    .dataframe thead th {\n",
       "        text-align: right;\n",
       "    }\n",
       "</style>\n",
       "<table border=\"1\" class=\"dataframe\">\n",
       "  <thead>\n",
       "    <tr style=\"text-align: right;\">\n",
       "      <th></th>\n",
       "      <th>population</th>\n",
       "      <th>geometry</th>\n",
       "    </tr>\n",
       "  </thead>\n",
       "  <tbody>\n",
       "    <tr>\n",
       "      <th>0</th>\n",
       "      <td>5</td>\n",
       "      <td>POLYGON ((25472499.995 6685998.998, 25472499.9...</td>\n",
       "    </tr>\n",
       "    <tr>\n",
       "      <th>1</th>\n",
       "      <td>8</td>\n",
       "      <td>POLYGON ((25472499.995 6684249.004, 25472499.9...</td>\n",
       "    </tr>\n",
       "    <tr>\n",
       "      <th>2</th>\n",
       "      <td>5</td>\n",
       "      <td>POLYGON ((25472499.995 6683999.005, 25472499.9...</td>\n",
       "    </tr>\n",
       "    <tr>\n",
       "      <th>3</th>\n",
       "      <td>13</td>\n",
       "      <td>POLYGON ((25472499.995 6682998.998, 25472499.9...</td>\n",
       "    </tr>\n",
       "    <tr>\n",
       "      <th>4</th>\n",
       "      <td>5</td>\n",
       "      <td>POLYGON ((25472749.993 6690249.003, 25472749.9...</td>\n",
       "    </tr>\n",
       "    <tr>\n",
       "      <th>...</th>\n",
       "      <td>...</td>\n",
       "      <td>...</td>\n",
       "    </tr>\n",
       "    <tr>\n",
       "      <th>5832</th>\n",
       "      <td>7</td>\n",
       "      <td>POLYGON ((25513249.999 6686248.997, 25513249.9...</td>\n",
       "    </tr>\n",
       "    <tr>\n",
       "      <th>5833</th>\n",
       "      <td>6</td>\n",
       "      <td>POLYGON ((25513249.999 6685998.998, 25513249.9...</td>\n",
       "    </tr>\n",
       "    <tr>\n",
       "      <th>5834</th>\n",
       "      <td>14</td>\n",
       "      <td>POLYGON ((25513249.999 6685748.999, 25513249.9...</td>\n",
       "    </tr>\n",
       "    <tr>\n",
       "      <th>5835</th>\n",
       "      <td>12</td>\n",
       "      <td>POLYGON ((25513249.999 6685499.000, 25513249.9...</td>\n",
       "    </tr>\n",
       "    <tr>\n",
       "      <th>5836</th>\n",
       "      <td>31363</td>\n",
       "      <td>POLYGON ((25514000.000 6659998.998, 25514000.0...</td>\n",
       "    </tr>\n",
       "  </tbody>\n",
       "</table>\n",
       "<p>5837 rows × 2 columns</p>\n",
       "</div>"
      ],
      "text/plain": [
       "      population                                           geometry\n",
       "0              5  POLYGON ((25472499.995 6685998.998, 25472499.9...\n",
       "1              8  POLYGON ((25472499.995 6684249.004, 25472499.9...\n",
       "2              5  POLYGON ((25472499.995 6683999.005, 25472499.9...\n",
       "3             13  POLYGON ((25472499.995 6682998.998, 25472499.9...\n",
       "4              5  POLYGON ((25472749.993 6690249.003, 25472749.9...\n",
       "...          ...                                                ...\n",
       "5832           7  POLYGON ((25513249.999 6686248.997, 25513249.9...\n",
       "5833           6  POLYGON ((25513249.999 6685998.998, 25513249.9...\n",
       "5834          14  POLYGON ((25513249.999 6685748.999, 25513249.9...\n",
       "5835          12  POLYGON ((25513249.999 6685499.000, 25513249.9...\n",
       "5836       31363  POLYGON ((25514000.000 6659998.998, 25514000.0...\n",
       "\n",
       "[5837 rows x 2 columns]"
      ]
     },
     "execution_count": 19,
     "metadata": {},
     "output_type": "execute_result"
    }
   ],
   "source": [
    "population_grid = population_grid[[\"asukkaita\", \"geometry\"]]\n",
    "population_grid = population_grid.rename(columns={\"asukkaita\": \"population\"})\n",
    "population_grid"
   ]
  },
  {
   "cell_type": "code",
   "execution_count": 5,
   "metadata": {
    "deletable": false,
    "editable": false
   },
   "outputs": [],
   "source": [
    "# NON-EDITABLE CODE CELL FOR TESTING YOUR SOLUTION\n",
    "import geopandas\n",
    "import pyproj\n",
    "\n",
    "assert isinstance(population_grid, geopandas.GeoDataFrame)\n",
    "assert population_grid.crs == pyproj.CRS(\"EPSG:3879\")"
   ]
  },
  {
   "cell_type": "markdown",
   "metadata": {
    "deletable": false,
    "editable": false
   },
   "source": [
    "\n",
    "\n",
    "Load the buffers computed in *problem 2* into a `GeoDataFrame` called `shopping_centre_buffers`. Add an `assert` statement to check whether the two data frames are in the same CRS."
   ]
  },
  {
   "cell_type": "code",
   "execution_count": 13,
   "metadata": {},
   "outputs": [],
   "source": [
    "# ADD YOUR OWN CODE HERE\n",
    "shopping_centre_buffers = gpd.read_file(DATA_DIRECTORY / \"shopping_centres.gpkg\")\n",
    "assert shopping_centre_buffers.crs == population_grid.crs, \"shopping_centre_buffers and population_grid have different CRS\""
   ]
  },
  {
   "cell_type": "code",
   "execution_count": 10,
   "metadata": {
    "deletable": false,
    "editable": false
   },
   "outputs": [],
   "source": [
    "# NON-EDITABLE CODE CELL FOR TESTING YOUR SOLUTION\n",
    "assert isinstance(shopping_centre_buffers, geopandas.GeoDataFrame)\n",
    "assert shopping_centre_buffers.geometry.geom_type.unique() == [\"Polygon\"]\n",
    "assert shopping_centre_buffers.crs == pyproj.CRS(\"EPSG:3879\")"
   ]
  },
  {
   "cell_type": "markdown",
   "metadata": {
    "deletable": false,
    "editable": false
   },
   "source": [
    "\n",
    "---\n",
    "\n",
    "### b) Carry out a *spatial join* between the `population_grid` and the `shopping_centre_buffers`\n",
    "\n",
    "Join the shopping centre’s `id` column (and others, if you want) to the population grid data frame, for all population grid cells that are **within** the buffer area of each shopping centre. [Use a *join-type* that retains only rows from both input data frames for which the geometric predicate is true](https://geopandas.org/en/stable/gallery/spatial_joins.html#Types-of-spatial-joins). \n"
   ]
  },
  {
   "cell_type": "code",
   "execution_count": 28,
   "metadata": {},
   "outputs": [
    {
     "data": {
      "text/html": [
       "<div>\n",
       "<style scoped>\n",
       "    .dataframe tbody tr th:only-of-type {\n",
       "        vertical-align: middle;\n",
       "    }\n",
       "\n",
       "    .dataframe tbody tr th {\n",
       "        vertical-align: top;\n",
       "    }\n",
       "\n",
       "    .dataframe thead th {\n",
       "        text-align: right;\n",
       "    }\n",
       "</style>\n",
       "<table border=\"1\" class=\"dataframe\">\n",
       "  <thead>\n",
       "    <tr style=\"text-align: right;\">\n",
       "      <th></th>\n",
       "      <th>population</th>\n",
       "      <th>geometry</th>\n",
       "      <th>index_right</th>\n",
       "      <th>address</th>\n",
       "      <th>id</th>\n",
       "      <th>name</th>\n",
       "      <th>addr</th>\n",
       "    </tr>\n",
       "  </thead>\n",
       "  <tbody>\n",
       "    <tr>\n",
       "      <th>1147</th>\n",
       "      <td>128</td>\n",
       "      <td>POLYGON ((25484250.000 6672499.005, 25484250.0...</td>\n",
       "      <td>2</td>\n",
       "      <td>Iso Omena, 11, Piispansilta, Matinkylä, Suur-M...</td>\n",
       "      <td>2</td>\n",
       "      <td>Iso-omena</td>\n",
       "      <td>Piispansilta 11, 02230 Espoo, Finland</td>\n",
       "    </tr>\n",
       "    <tr>\n",
       "      <th>1148</th>\n",
       "      <td>81</td>\n",
       "      <td>POLYGON ((25484250.000 6672249.006, 25484250.0...</td>\n",
       "      <td>2</td>\n",
       "      <td>Iso Omena, 11, Piispansilta, Matinkylä, Suur-M...</td>\n",
       "      <td>2</td>\n",
       "      <td>Iso-omena</td>\n",
       "      <td>Piispansilta 11, 02230 Espoo, Finland</td>\n",
       "    </tr>\n",
       "    <tr>\n",
       "      <th>1149</th>\n",
       "      <td>20</td>\n",
       "      <td>POLYGON ((25484250.000 6671748.997, 25484250.0...</td>\n",
       "      <td>2</td>\n",
       "      <td>Iso Omena, 11, Piispansilta, Matinkylä, Suur-M...</td>\n",
       "      <td>2</td>\n",
       "      <td>Iso-omena</td>\n",
       "      <td>Piispansilta 11, 02230 Espoo, Finland</td>\n",
       "    </tr>\n",
       "    <tr>\n",
       "      <th>1211</th>\n",
       "      <td>110</td>\n",
       "      <td>POLYGON ((25484499.998 6672749.004, 25484499.9...</td>\n",
       "      <td>2</td>\n",
       "      <td>Iso Omena, 11, Piispansilta, Matinkylä, Suur-M...</td>\n",
       "      <td>2</td>\n",
       "      <td>Iso-omena</td>\n",
       "      <td>Piispansilta 11, 02230 Espoo, Finland</td>\n",
       "    </tr>\n",
       "    <tr>\n",
       "      <th>1212</th>\n",
       "      <td>136</td>\n",
       "      <td>POLYGON ((25484499.998 6672499.005, 25484499.9...</td>\n",
       "      <td>2</td>\n",
       "      <td>Iso Omena, 11, Piispansilta, Matinkylä, Suur-M...</td>\n",
       "      <td>2</td>\n",
       "      <td>Iso-omena</td>\n",
       "      <td>Piispansilta 11, 02230 Espoo, Finland</td>\n",
       "    </tr>\n",
       "    <tr>\n",
       "      <th>...</th>\n",
       "      <td>...</td>\n",
       "      <td>...</td>\n",
       "      <td>...</td>\n",
       "      <td>...</td>\n",
       "      <td>...</td>\n",
       "      <td>...</td>\n",
       "      <td>...</td>\n",
       "    </tr>\n",
       "    <tr>\n",
       "      <th>5287</th>\n",
       "      <td>344</td>\n",
       "      <td>POLYGON ((25505499.998 6677498.998, 25505499.9...</td>\n",
       "      <td>0</td>\n",
       "      <td>Kauppakeskus Itis, 1-7, Itäkatu, Itäkeskus, Va...</td>\n",
       "      <td>0</td>\n",
       "      <td>Itis</td>\n",
       "      <td>Itäkatu 1-7, 00930 Helsinki, Finland</td>\n",
       "    </tr>\n",
       "    <tr>\n",
       "      <th>5288</th>\n",
       "      <td>340</td>\n",
       "      <td>POLYGON ((25505499.998 6677248.998, 25505499.9...</td>\n",
       "      <td>0</td>\n",
       "      <td>Kauppakeskus Itis, 1-7, Itäkatu, Itäkeskus, Va...</td>\n",
       "      <td>0</td>\n",
       "      <td>Itis</td>\n",
       "      <td>Itäkatu 1-7, 00930 Helsinki, Finland</td>\n",
       "    </tr>\n",
       "    <tr>\n",
       "      <th>5342</th>\n",
       "      <td>369</td>\n",
       "      <td>POLYGON ((25505749.995 6677748.997, 25505749.9...</td>\n",
       "      <td>0</td>\n",
       "      <td>Kauppakeskus Itis, 1-7, Itäkatu, Itäkeskus, Va...</td>\n",
       "      <td>0</td>\n",
       "      <td>Itis</td>\n",
       "      <td>Itäkatu 1-7, 00930 Helsinki, Finland</td>\n",
       "    </tr>\n",
       "    <tr>\n",
       "      <th>5343</th>\n",
       "      <td>130</td>\n",
       "      <td>POLYGON ((25505749.995 6677498.998, 25505749.9...</td>\n",
       "      <td>0</td>\n",
       "      <td>Kauppakeskus Itis, 1-7, Itäkatu, Itäkeskus, Va...</td>\n",
       "      <td>0</td>\n",
       "      <td>Itis</td>\n",
       "      <td>Itäkatu 1-7, 00930 Helsinki, Finland</td>\n",
       "    </tr>\n",
       "    <tr>\n",
       "      <th>5344</th>\n",
       "      <td>202</td>\n",
       "      <td>POLYGON ((25505749.995 6677248.998, 25505749.9...</td>\n",
       "      <td>0</td>\n",
       "      <td>Kauppakeskus Itis, 1-7, Itäkatu, Itäkeskus, Va...</td>\n",
       "      <td>0</td>\n",
       "      <td>Itis</td>\n",
       "      <td>Itäkatu 1-7, 00930 Helsinki, Finland</td>\n",
       "    </tr>\n",
       "  </tbody>\n",
       "</table>\n",
       "<p>425 rows × 7 columns</p>\n",
       "</div>"
      ],
      "text/plain": [
       "      population                                           geometry  \\\n",
       "1147         128  POLYGON ((25484250.000 6672499.005, 25484250.0...   \n",
       "1148          81  POLYGON ((25484250.000 6672249.006, 25484250.0...   \n",
       "1149          20  POLYGON ((25484250.000 6671748.997, 25484250.0...   \n",
       "1211         110  POLYGON ((25484499.998 6672749.004, 25484499.9...   \n",
       "1212         136  POLYGON ((25484499.998 6672499.005, 25484499.9...   \n",
       "...          ...                                                ...   \n",
       "5287         344  POLYGON ((25505499.998 6677498.998, 25505499.9...   \n",
       "5288         340  POLYGON ((25505499.998 6677248.998, 25505499.9...   \n",
       "5342         369  POLYGON ((25505749.995 6677748.997, 25505749.9...   \n",
       "5343         130  POLYGON ((25505749.995 6677498.998, 25505749.9...   \n",
       "5344         202  POLYGON ((25505749.995 6677248.998, 25505749.9...   \n",
       "\n",
       "      index_right                                            address  id  \\\n",
       "1147            2  Iso Omena, 11, Piispansilta, Matinkylä, Suur-M...   2   \n",
       "1148            2  Iso Omena, 11, Piispansilta, Matinkylä, Suur-M...   2   \n",
       "1149            2  Iso Omena, 11, Piispansilta, Matinkylä, Suur-M...   2   \n",
       "1211            2  Iso Omena, 11, Piispansilta, Matinkylä, Suur-M...   2   \n",
       "1212            2  Iso Omena, 11, Piispansilta, Matinkylä, Suur-M...   2   \n",
       "...           ...                                                ...  ..   \n",
       "5287            0  Kauppakeskus Itis, 1-7, Itäkatu, Itäkeskus, Va...   0   \n",
       "5288            0  Kauppakeskus Itis, 1-7, Itäkatu, Itäkeskus, Va...   0   \n",
       "5342            0  Kauppakeskus Itis, 1-7, Itäkatu, Itäkeskus, Va...   0   \n",
       "5343            0  Kauppakeskus Itis, 1-7, Itäkatu, Itäkeskus, Va...   0   \n",
       "5344            0  Kauppakeskus Itis, 1-7, Itäkatu, Itäkeskus, Va...   0   \n",
       "\n",
       "           name                                   addr  \n",
       "1147  Iso-omena  Piispansilta 11, 02230 Espoo, Finland  \n",
       "1148  Iso-omena  Piispansilta 11, 02230 Espoo, Finland  \n",
       "1149  Iso-omena  Piispansilta 11, 02230 Espoo, Finland  \n",
       "1211  Iso-omena  Piispansilta 11, 02230 Espoo, Finland  \n",
       "1212  Iso-omena  Piispansilta 11, 02230 Espoo, Finland  \n",
       "...         ...                                    ...  \n",
       "5287       Itis   Itäkatu 1-7, 00930 Helsinki, Finland  \n",
       "5288       Itis   Itäkatu 1-7, 00930 Helsinki, Finland  \n",
       "5342       Itis   Itäkatu 1-7, 00930 Helsinki, Finland  \n",
       "5343       Itis   Itäkatu 1-7, 00930 Helsinki, Finland  \n",
       "5344       Itis   Itäkatu 1-7, 00930 Helsinki, Finland  \n",
       "\n",
       "[425 rows x 7 columns]"
      ]
     },
     "execution_count": 28,
     "metadata": {},
     "output_type": "execute_result"
    }
   ],
   "source": [
    "# ADD YOUR OWN CODE HERE\n",
    "population_within_1500_shopping_center = population_grid.sjoin(shopping_centre_buffers, predicate=\"within\")\n",
    "population_within_1500_shopping_center"
   ]
  },
  {
   "cell_type": "markdown",
   "metadata": {
    "deletable": false,
    "editable": false
   },
   "source": [
    "\n",
    "---\n",
    "\n",
    "### c) Compute the population sum around shopping centres\n",
    "\n",
    "Group the resulting (joint) data frame by shopping centre (`id` or `name`), and calculate the `sum()` of the population living inside the 1.5 km radius around them.\n",
    "\n",
    "Print the results, for instance, in the form \"12345 people live within 1.5 km from REDI\"."
   ]
  },
  {
   "cell_type": "code",
   "execution_count": 33,
   "metadata": {},
   "outputs": [
    {
     "data": {
      "text/html": [
       "<div>\n",
       "<style scoped>\n",
       "    .dataframe tbody tr th:only-of-type {\n",
       "        vertical-align: middle;\n",
       "    }\n",
       "\n",
       "    .dataframe tbody tr th {\n",
       "        vertical-align: top;\n",
       "    }\n",
       "\n",
       "    .dataframe thead th {\n",
       "        text-align: right;\n",
       "    }\n",
       "</style>\n",
       "<table border=\"1\" class=\"dataframe\">\n",
       "  <thead>\n",
       "    <tr style=\"text-align: right;\">\n",
       "      <th></th>\n",
       "      <th>population</th>\n",
       "      <th>index_right</th>\n",
       "      <th>id</th>\n",
       "    </tr>\n",
       "    <tr>\n",
       "      <th>name</th>\n",
       "      <th></th>\n",
       "      <th></th>\n",
       "      <th></th>\n",
       "    </tr>\n",
       "  </thead>\n",
       "  <tbody>\n",
       "    <tr>\n",
       "      <th>Forum</th>\n",
       "      <td>57062</td>\n",
       "      <td>76</td>\n",
       "      <td>76</td>\n",
       "    </tr>\n",
       "    <tr>\n",
       "      <th>Iso-omena</th>\n",
       "      <td>26698</td>\n",
       "      <td>156</td>\n",
       "      <td>156</td>\n",
       "    </tr>\n",
       "    <tr>\n",
       "      <th>Itis</th>\n",
       "      <td>20889</td>\n",
       "      <td>0</td>\n",
       "      <td>0</td>\n",
       "    </tr>\n",
       "    <tr>\n",
       "      <th>Jumbo</th>\n",
       "      <td>10907</td>\n",
       "      <td>148</td>\n",
       "      <td>148</td>\n",
       "    </tr>\n",
       "    <tr>\n",
       "      <th>REDI</th>\n",
       "      <td>27801</td>\n",
       "      <td>205</td>\n",
       "      <td>205</td>\n",
       "    </tr>\n",
       "    <tr>\n",
       "      <th>Sello</th>\n",
       "      <td>22329</td>\n",
       "      <td>189</td>\n",
       "      <td>189</td>\n",
       "    </tr>\n",
       "    <tr>\n",
       "      <th>Tripla</th>\n",
       "      <td>24528</td>\n",
       "      <td>318</td>\n",
       "      <td>318</td>\n",
       "    </tr>\n",
       "  </tbody>\n",
       "</table>\n",
       "</div>"
      ],
      "text/plain": [
       "           population  index_right   id\n",
       "name                                   \n",
       "Forum           57062           76   76\n",
       "Iso-omena       26698          156  156\n",
       "Itis            20889            0    0\n",
       "Jumbo           10907          148  148\n",
       "REDI            27801          205  205\n",
       "Sello           22329          189  189\n",
       "Tripla          24528          318  318"
      ]
     },
     "execution_count": 33,
     "metadata": {},
     "output_type": "execute_result"
    }
   ],
   "source": [
    "# ADD YOUR OWN CODE HERE\n",
    "population_within_1500_shopping_center = population_within_1500_shopping_center.groupby(\"name\").sum()\n",
    "population_within_1500_shopping_center"
   ]
  },
  {
   "cell_type": "code",
   "execution_count": 45,
   "metadata": {},
   "outputs": [],
   "source": [
    "population_within_1500_shopping_center = population_within_1500_shopping_center[\"population\"]"
   ]
  },
  {
   "cell_type": "code",
   "execution_count": 47,
   "metadata": {},
   "outputs": [
    {
     "name": "stdout",
     "output_type": "stream",
     "text": [
      "57062 people live wihtin 1.5km from Forum\n",
      "26698 people live wihtin 1.5km from Iso-omena\n",
      "20889 people live wihtin 1.5km from Itis\n",
      "10907 people live wihtin 1.5km from Jumbo\n",
      "27801 people live wihtin 1.5km from REDI\n",
      "22329 people live wihtin 1.5km from Sello\n",
      "24528 people live wihtin 1.5km from Tripla\n"
     ]
    }
   ],
   "source": [
    "for key, value in population_within_1500_shopping_center.items():\n",
    "    print(f\"{value} people live within 1.5km from {key}\")"
   ]
  },
  {
   "cell_type": "markdown",
   "metadata": {
    "deletable": false,
    "editable": false,
    "tags": []
   },
   "source": [
    "\n",
    "---\n",
    "\n",
    "### d) Reflection\n",
    "\n",
    "Good job! You are almost done with this week’s exercise. Please quickly answer the following short questions:\n",
    "    \n",
    "- How challenging did you find problems 1-3 (on scale to 1-5), and why?\n",
    "- What was easy?\n",
    "- What was difficult?\n",
    "\n",
    "Add your answers in a new *Markdown* cell below:"
   ]
  },
  {
   "cell_type": "markdown",
   "metadata": {},
   "source": [
    "I rank the difficulities as 3."
   ]
  },
  {
   "cell_type": "markdown",
   "metadata": {},
   "source": [
    "It is because the questions do not need us to figure out new algorithm or think outside the scope we are learning. I find the main difficulties are not familar with the syntax, so I have to go through the previous notes to figure out the syntax."
   ]
  }
 ],
 "metadata": {
  "anaconda-cloud": {},
  "kernelspec": {
   "display_name": "Python 3 (ipykernel)",
   "language": "python",
   "name": "python3"
  },
  "language_info": {
   "codemirror_mode": {
    "name": "ipython",
    "version": 3
   },
   "file_extension": ".py",
   "mimetype": "text/x-python",
   "name": "python",
   "nbconvert_exporter": "python",
   "pygments_lexer": "ipython3",
   "version": "3.11.0"
  }
 },
 "nbformat": 4,
 "nbformat_minor": 4
}
